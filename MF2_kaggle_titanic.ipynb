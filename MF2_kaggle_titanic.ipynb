{
 "cells": [
  {
   "cell_type": "markdown",
   "metadata": {},
   "source": [
    "## Validação simples"
   ]
  },
  {
   "cell_type": "code",
   "execution_count": 1,
   "metadata": {},
   "outputs": [],
   "source": [
    "import pandas as pd\n",
    "import numpy as np"
   ]
  },
  {
   "cell_type": "markdown",
   "metadata": {},
   "source": [
    "1. Treino \n",
    "2. Validação\n",
    "3. Teste"
   ]
  },
  {
   "cell_type": "code",
   "execution_count": 2,
   "metadata": {},
   "outputs": [],
   "source": [
    "train = pd.read_csv(\"train.csv\")\n",
    "test = pd.read_csv(\"test.csv\")\n",
    "\n",
    "variaveis = ['Sex_binario','Age']"
   ]
  },
  {
   "cell_type": "code",
   "execution_count": 3,
   "metadata": {},
   "outputs": [],
   "source": [
    "def transformar_sexo(valor):\n",
    "    if valor == 'female':\n",
    "        return 1\n",
    "    else:\n",
    "        return 0\n",
    "#usando map() para aplicar linha a linha na coluna selecionada\n",
    "\n",
    "train['Sex_binario'] = train['Sex'].map(transformar_sexo)"
   ]
  },
  {
   "cell_type": "code",
   "execution_count": 4,
   "metadata": {},
   "outputs": [],
   "source": [
    "X = train[variaveis]\n",
    "y = train['Survived']"
   ]
  },
  {
   "cell_type": "code",
   "execution_count": 5,
   "metadata": {},
   "outputs": [],
   "source": [
    "# preencher valores de NaN encontrados com -1 pois é um valor de inflexão o que facilitara a identificação pelo modelo\n",
    "X = X.fillna(-1)"
   ]
  },
  {
   "cell_type": "code",
   "execution_count": 6,
   "metadata": {
    "scrolled": false
   },
   "outputs": [],
   "source": [
    "from sklearn.ensemble import RandomForestClassifier\n",
    "from sklearn.model_selection import train_test_split\n",
    "from sklearn import metrics"
   ]
  },
  {
   "cell_type": "code",
   "execution_count": 7,
   "metadata": {},
   "outputs": [
    {
     "data": {
      "text/html": [
       "<div>\n",
       "<style scoped>\n",
       "    .dataframe tbody tr th:only-of-type {\n",
       "        vertical-align: middle;\n",
       "    }\n",
       "\n",
       "    .dataframe tbody tr th {\n",
       "        vertical-align: top;\n",
       "    }\n",
       "\n",
       "    .dataframe thead th {\n",
       "        text-align: right;\n",
       "    }\n",
       "</style>\n",
       "<table border=\"1\" class=\"dataframe\">\n",
       "  <thead>\n",
       "    <tr style=\"text-align: right;\">\n",
       "      <th></th>\n",
       "      <th>Sex_binario</th>\n",
       "      <th>Age</th>\n",
       "    </tr>\n",
       "  </thead>\n",
       "  <tbody>\n",
       "    <tr>\n",
       "      <th>394</th>\n",
       "      <td>1</td>\n",
       "      <td>24.00</td>\n",
       "    </tr>\n",
       "    <tr>\n",
       "      <th>851</th>\n",
       "      <td>0</td>\n",
       "      <td>74.00</td>\n",
       "    </tr>\n",
       "    <tr>\n",
       "      <th>373</th>\n",
       "      <td>0</td>\n",
       "      <td>22.00</td>\n",
       "    </tr>\n",
       "    <tr>\n",
       "      <th>523</th>\n",
       "      <td>1</td>\n",
       "      <td>44.00</td>\n",
       "    </tr>\n",
       "    <tr>\n",
       "      <th>78</th>\n",
       "      <td>0</td>\n",
       "      <td>0.83</td>\n",
       "    </tr>\n",
       "  </tbody>\n",
       "</table>\n",
       "</div>"
      ],
      "text/plain": [
       "     Sex_binario    Age\n",
       "394            1  24.00\n",
       "851            0  74.00\n",
       "373            0  22.00\n",
       "523            1  44.00\n",
       "78             0   0.83"
      ]
     },
     "execution_count": 7,
     "metadata": {},
     "output_type": "execute_result"
    }
   ],
   "source": [
    "# obtendo parâmetros de teste e validação\n",
    "# adicionar a semente para que o modelo não varie as amostras\n",
    "np.random.seed(1)\n",
    "X_treino, X_valid, y_treino, y_valid = train_test_split(X, y, test_size=0.5)\n",
    "X_treino.head()"
   ]
  },
  {
   "cell_type": "code",
   "execution_count": 8,
   "metadata": {
    "scrolled": true
   },
   "outputs": [
    {
     "data": {
      "text/plain": [
       "((445, 2), (446, 2), (445,), (446,))"
      ]
     },
     "execution_count": 8,
     "metadata": {},
     "output_type": "execute_result"
    }
   ],
   "source": [
    "X_treino.shape, X_valid.shape, y_treino.shape, y_valid.shape"
   ]
  },
  {
   "cell_type": "code",
   "execution_count": 9,
   "metadata": {},
   "outputs": [
    {
     "data": {
      "text/plain": [
       "RandomForestClassifier(n_jobs=-1, random_state=0)"
      ]
     },
     "execution_count": 9,
     "metadata": {},
     "output_type": "execute_result"
    }
   ],
   "source": [
    "modelo = RandomForestClassifier(n_estimators=100, n_jobs=-1, random_state=0)\n",
    "modelo.fit(X_treino,y_treino)"
   ]
  },
  {
   "cell_type": "code",
   "execution_count": 10,
   "metadata": {},
   "outputs": [],
   "source": [
    "# modelo recebido pela validação\n",
    "p = modelo.predict(X_valid)"
   ]
  },
  {
   "cell_type": "code",
   "execution_count": 11,
   "metadata": {},
   "outputs": [
    {
     "data": {
      "text/plain": [
       "0.7466367713004485"
      ]
     },
     "execution_count": 11,
     "metadata": {},
     "output_type": "execute_result"
    }
   ],
   "source": [
    "# acuracia = média de acertos\n",
    "np.mean(y_valid == p)"
   ]
  },
  {
   "cell_type": "code",
   "execution_count": 12,
   "metadata": {},
   "outputs": [],
   "source": [
    "# equivalente ao exemplo acima"
   ]
  },
  {
   "cell_type": "code",
   "execution_count": 13,
   "metadata": {},
   "outputs": [
    {
     "name": "stdout",
     "output_type": "stream",
     "text": [
      "0.7466367713004485\n"
     ]
    }
   ],
   "source": [
    "print(metrics.accuracy_score(p,y_valid))"
   ]
  },
  {
   "cell_type": "markdown",
   "metadata": {},
   "source": [
    "## Validação Cruzada (Cross Validation)"
   ]
  },
  {
   "cell_type": "code",
   "execution_count": 14,
   "metadata": {},
   "outputs": [
    {
     "data": {
      "text/plain": [
       "array([0, 1, 2, 3, 4, 5, 6, 7, 8, 9])"
      ]
     },
     "execution_count": 14,
     "metadata": {},
     "output_type": "execute_result"
    }
   ],
   "source": [
    "from sklearn.model_selection import KFold\n",
    "\n",
    "X_falso = np.arange(10)\n",
    "X_falso"
   ]
  },
  {
   "cell_type": "raw",
   "metadata": {},
   "source": [
    "# Criar o objeto KFold\n",
    "#?KFold\n",
    "kf = KFold(n_splits=3,shuffle=True, random_state=0)\n",
    "for linhas_treino, linhas_valid in kf.split(X_falso):\n",
    "    print(\"Treino:\",linhas_treino)\n",
    "    print(\"Valid:\",linhas_valid)\n",
    "    print()    "
   ]
  },
  {
   "cell_type": "code",
   "execution_count": 15,
   "metadata": {},
   "outputs": [
    {
     "name": "stdout",
     "output_type": "stream",
     "text": [
      "Rep: 0\n",
      "Treino: 445\n",
      "Valid: 446\n",
      "\n",
      "Acc: 0.7713004484304933\n",
      "\n",
      "Treino: 446\n",
      "Valid: 445\n",
      "\n",
      "Acc: 0.7797752808988764\n",
      "\n",
      "Rep: 1\n",
      "Treino: 445\n",
      "Valid: 446\n",
      "\n",
      "Acc: 0.7443946188340808\n",
      "\n",
      "Treino: 446\n",
      "Valid: 445\n",
      "\n",
      "Acc: 0.7955056179775281\n",
      "\n",
      "Rep: 2\n",
      "Treino: 445\n",
      "Valid: 446\n",
      "\n",
      "Acc: 0.7757847533632287\n",
      "\n",
      "Treino: 446\n",
      "Valid: 445\n",
      "\n",
      "Acc: 0.7887640449438202\n",
      "\n",
      "Rep: 3\n",
      "Treino: 445\n",
      "Valid: 446\n",
      "\n",
      "Acc: 0.7533632286995515\n",
      "\n",
      "Treino: 446\n",
      "Valid: 445\n",
      "\n",
      "Acc: 0.7573033707865169\n",
      "\n",
      "Rep: 4\n",
      "Treino: 445\n",
      "Valid: 446\n",
      "\n",
      "Acc: 0.7354260089686099\n",
      "\n",
      "Treino: 446\n",
      "Valid: 445\n",
      "\n",
      "Acc: 0.7415730337078652\n",
      "\n",
      "Rep: 5\n",
      "Treino: 445\n",
      "Valid: 446\n",
      "\n",
      "Acc: 0.7219730941704036\n",
      "\n",
      "Treino: 446\n",
      "Valid: 445\n",
      "\n",
      "Acc: 0.7056179775280899\n",
      "\n",
      "Rep: 6\n",
      "Treino: 445\n",
      "Valid: 446\n",
      "\n",
      "Acc: 0.7757847533632287\n",
      "\n",
      "Treino: 446\n",
      "Valid: 445\n",
      "\n",
      "Acc: 0.7303370786516854\n",
      "\n",
      "Rep: 7\n",
      "Treino: 445\n",
      "Valid: 446\n",
      "\n",
      "Acc: 0.7040358744394619\n",
      "\n",
      "Treino: 446\n",
      "Valid: 445\n",
      "\n",
      "Acc: 0.7348314606741573\n",
      "\n",
      "Rep: 8\n",
      "Treino: 445\n",
      "Valid: 446\n",
      "\n",
      "Acc: 0.7488789237668162\n",
      "\n",
      "Treino: 446\n",
      "Valid: 445\n",
      "\n",
      "Acc: 0.7887640449438202\n",
      "\n",
      "Rep: 9\n",
      "Treino: 445\n",
      "Valid: 446\n",
      "\n",
      "Acc: 0.7623318385650224\n",
      "\n",
      "Treino: 446\n",
      "Valid: 445\n",
      "\n",
      "Acc: 0.7842696629213484\n",
      "\n"
     ]
    }
   ],
   "source": [
    "# Criar o objeto KFold\n",
    "#?KFold\n",
    "resultados = []\n",
    "for rep in range(10): \n",
    "    print(\"Rep:\",rep)\n",
    "    kf = KFold(n_splits=2,shuffle=True, random_state=rep)\n",
    "    for linhas_treino, linhas_valid in kf.split(X):\n",
    "        print(\"Treino:\",linhas_treino.shape[0])\n",
    "        print(\"Valid:\",linhas_valid.shape[0])\n",
    "        print()\n",
    "\n",
    "        X_treino, X_valid = X.iloc[linhas_treino], X.iloc[linhas_valid]\n",
    "        y_treino, y_valid = y.iloc[linhas_treino], y.iloc[linhas_valid]\n",
    "\n",
    "        modelo = RandomForestClassifier(n_estimators=100, n_jobs=-1, random_state=0)\n",
    "        modelo.fit(X_treino,y_treino)\n",
    "\n",
    "        p = modelo.predict(X_valid)\n",
    "        acc = np.mean(y_valid == p)\n",
    "\n",
    "        resultados.append(acc)\n",
    "\n",
    "        print(\"Acc:\", acc)\n",
    "        print()\n",
    "\n",
    "       # print(X_treino.head())"
   ]
  },
  {
   "cell_type": "code",
   "execution_count": 17,
   "metadata": {},
   "outputs": [
    {
     "data": {
      "text/plain": [
       "0.7550007557817302"
      ]
     },
     "execution_count": 17,
     "metadata": {},
     "output_type": "execute_result"
    }
   ],
   "source": [
    "# Acurácia média\n",
    "\n",
    "np.mean(resultados)"
   ]
  },
  {
   "cell_type": "code",
   "execution_count": null,
   "metadata": {},
   "outputs": [],
   "source": []
  },
  {
   "cell_type": "code",
   "execution_count": null,
   "metadata": {},
   "outputs": [],
   "source": []
  },
  {
   "cell_type": "markdown",
   "metadata": {},
   "source": [
    "## Criar Submission"
   ]
  },
  {
   "cell_type": "code",
   "execution_count": 46,
   "metadata": {},
   "outputs": [],
   "source": [
    "sub = pd.Series(p, index=test['PassengerId'], name='Survived')"
   ]
  },
  {
   "cell_type": "code",
   "execution_count": 51,
   "metadata": {},
   "outputs": [],
   "source": [
    "sub.to_csv('primeiro_modelo.csv',header=True)"
   ]
  },
  {
   "cell_type": "code",
   "execution_count": 54,
   "metadata": {},
   "outputs": [
    {
     "name": "stdout",
     "output_type": "stream",
     "text": [
      "PassengerId,Survived\n",
      "\n",
      "892,0\n",
      "\n",
      "893,1\n",
      "\n",
      "894,0\n",
      "\n",
      "895,1\n",
      "\n",
      "896,1\n",
      "\n",
      "897,0\n",
      "\n",
      "898,1\n",
      "\n",
      "899,0\n",
      "\n",
      "900,1\n",
      "\n"
     ]
    }
   ],
   "source": [
    "with open(\"primeiro_modelo.csv\") as f:\n",
    "    for _ in range(10): # first 10 lines\n",
    "        print(f.readline())"
   ]
  },
  {
   "cell_type": "code",
   "execution_count": null,
   "metadata": {},
   "outputs": [],
   "source": []
  }
 ],
 "metadata": {
  "kernelspec": {
   "display_name": "Python 3",
   "language": "python",
   "name": "python3"
  },
  "language_info": {
   "codemirror_mode": {
    "name": "ipython",
    "version": 3
   },
   "file_extension": ".py",
   "mimetype": "text/x-python",
   "name": "python",
   "nbconvert_exporter": "python",
   "pygments_lexer": "ipython3",
   "version": "3.8.5"
  }
 },
 "nbformat": 4,
 "nbformat_minor": 4
}
